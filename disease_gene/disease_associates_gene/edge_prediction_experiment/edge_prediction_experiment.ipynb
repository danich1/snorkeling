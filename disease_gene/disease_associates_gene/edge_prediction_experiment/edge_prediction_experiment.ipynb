{
 "cells": [
  {
   "cell_type": "markdown",
   "metadata": {},
   "source": [
    "# Disease Associates Genes Edge Prediction"
   ]
  },
  {
   "cell_type": "markdown",
   "metadata": {},
   "source": [
    "This notebook is designed to take the next step moving from predicted sentences to edge predictions. After training the discriminator model, each sentences contains a confidence score for the likelihood of mentioning a relationship. Multiple relationships contain multiple sentences, which makes establishing an edge unintuitive. Is taking the max score appropiate for determining existence of an edge? Does taking the mean of each relationship make more sense? The answer towards these questions are shown below."
   ]
  },
  {
   "cell_type": "code",
   "execution_count": 1,
   "metadata": {
    "ExecuteTime": {
     "end_time": "2020-01-20T06:22:05.286978Z",
     "start_time": "2020-01-20T06:22:04.317467Z"
    }
   },
   "outputs": [],
   "source": [
    "%load_ext autoreload\n",
    "%autoreload 2\n",
    "%matplotlib inline\n",
    "\n",
    "import os\n",
    "import sys\n",
    "import pandas as pd\n",
    "from sklearn.metrics import precision_recall_curve, roc_curve, auc\n",
    "import matplotlib.pyplot as plt\n",
    "import plotnine as p9\n",
    "import seaborn as sns\n",
    "\n",
    "sys.path.append(os.path.abspath('../../../modules'))\n",
    "\n",
    "from utils.notebook_utils.dataframe_helper import mark_sentence"
   ]
  },
  {
   "cell_type": "code",
   "execution_count": 2,
   "metadata": {
    "ExecuteTime": {
     "end_time": "2020-01-20T06:22:05.460136Z",
     "start_time": "2020-01-20T06:22:05.288477Z"
    }
   },
   "outputs": [],
   "source": [
    "#Set up the environment\n",
    "username = \"danich1\"\n",
    "password = \"snorkel\"\n",
    "dbname = \"pubmeddb\"\n",
    "\n",
    "#Path subject to change for different os\n",
    "database_str = \"postgresql+psycopg2://{}:{}@/{}?host=/var/run/postgresql\".format(username, password, dbname)\n",
    "os.environ['SNORKELDB'] = database_str\n",
    "\n",
    "from snorkel import SnorkelSession\n",
    "session = SnorkelSession()"
   ]
  },
  {
   "cell_type": "code",
   "execution_count": 3,
   "metadata": {
    "ExecuteTime": {
     "end_time": "2020-01-20T06:22:05.868521Z",
     "start_time": "2020-01-20T06:22:05.461765Z"
    }
   },
   "outputs": [],
   "source": [
    "from snorkel.learning.pytorch.rnn.utils import candidate_to_tokens\n",
    "from snorkel.models import Candidate, candidate_subclass"
   ]
  },
  {
   "cell_type": "code",
   "execution_count": 4,
   "metadata": {
    "ExecuteTime": {
     "end_time": "2020-01-20T06:22:05.893214Z",
     "start_time": "2020-01-20T06:22:05.870138Z"
    }
   },
   "outputs": [],
   "source": [
    "DiseaseGene = candidate_subclass('DiseaseGene', ['Disease', 'Gene'])"
   ]
  },
  {
   "cell_type": "code",
   "execution_count": 5,
   "metadata": {
    "ExecuteTime": {
     "end_time": "2020-01-20T06:22:24.860521Z",
     "start_time": "2020-01-20T06:22:05.894550Z"
    }
   },
   "outputs": [
    {
     "data": {
      "text/html": [
       "<div>\n",
       "<style scoped>\n",
       "    .dataframe tbody tr th:only-of-type {\n",
       "        vertical-align: middle;\n",
       "    }\n",
       "\n",
       "    .dataframe tbody tr th {\n",
       "        vertical-align: top;\n",
       "    }\n",
       "\n",
       "    .dataframe thead th {\n",
       "        text-align: right;\n",
       "    }\n",
       "</style>\n",
       "<table border=\"1\" class=\"dataframe\">\n",
       "  <thead>\n",
       "    <tr style=\"text-align: right;\">\n",
       "      <th></th>\n",
       "      <th>entrez_gene_id</th>\n",
       "      <th>gene_symbol</th>\n",
       "      <th>doid_id</th>\n",
       "      <th>doid_name</th>\n",
       "      <th>sources</th>\n",
       "      <th>hetionet</th>\n",
       "      <th>n_sentences</th>\n",
       "      <th>has_sentence</th>\n",
       "      <th>partition_rank</th>\n",
       "      <th>split</th>\n",
       "      <th>candidate_id</th>\n",
       "      <th>sentence_id</th>\n",
       "      <th>text</th>\n",
       "      <th>sen_length</th>\n",
       "    </tr>\n",
       "  </thead>\n",
       "  <tbody>\n",
       "    <tr>\n",
       "      <th>82343</th>\n",
       "      <td>189</td>\n",
       "      <td>AGXT</td>\n",
       "      <td>DOID:2531</td>\n",
       "      <td>hematologic cancer</td>\n",
       "      <td>NaN</td>\n",
       "      <td>0</td>\n",
       "      <td>2668</td>\n",
       "      <td>1</td>\n",
       "      <td>0.88258</td>\n",
       "      <td>1</td>\n",
       "      <td>21421</td>\n",
       "      <td>553297</td>\n",
       "      <td>A review of the literature since the use of ch...</td>\n",
       "      <td>39</td>\n",
       "    </tr>\n",
       "    <tr>\n",
       "      <th>1773121</th>\n",
       "      <td>3630</td>\n",
       "      <td>INS</td>\n",
       "      <td>DOID:1793</td>\n",
       "      <td>pancreatic cancer</td>\n",
       "      <td>NaN</td>\n",
       "      <td>0</td>\n",
       "      <td>1763</td>\n",
       "      <td>1</td>\n",
       "      <td>0.19694</td>\n",
       "      <td>0</td>\n",
       "      <td>21422</td>\n",
       "      <td>635063</td>\n",
       "      <td>The presence of insulin antibodies did not imp...</td>\n",
       "      <td>14</td>\n",
       "    </tr>\n",
       "  </tbody>\n",
       "</table>\n",
       "</div>"
      ],
      "text/plain": [
       "         entrez_gene_id gene_symbol    doid_id           doid_name sources  \\\n",
       "82343               189        AGXT  DOID:2531  hematologic cancer     NaN   \n",
       "1773121            3630         INS  DOID:1793   pancreatic cancer     NaN   \n",
       "\n",
       "         hetionet  n_sentences  has_sentence  partition_rank  split  \\\n",
       "82343           0         2668             1         0.88258      1   \n",
       "1773121         0         1763             1         0.19694      0   \n",
       "\n",
       "         candidate_id  sentence_id  \\\n",
       "82343           21421       553297   \n",
       "1773121         21422       635063   \n",
       "\n",
       "                                                      text  sen_length  \n",
       "82343    A review of the literature since the use of ch...          39  \n",
       "1773121  The presence of insulin antibodies did not imp...          14  "
      ]
     },
     "execution_count": 5,
     "metadata": {},
     "output_type": "execute_result"
    }
   ],
   "source": [
    "total_candidates_df = (\n",
    "    pd\n",
    "    .read_csv(\"input/all_dag_candidates.tsv.xz\", sep=\"\\t\")\n",
    "    .sort_values(\"candidate_id\")\n",
    ")\n",
    "total_candidates_df.head(2)"
   ]
  },
  {
   "cell_type": "code",
   "execution_count": 6,
   "metadata": {
    "ExecuteTime": {
     "end_time": "2020-01-20T06:22:27.032427Z",
     "start_time": "2020-01-20T06:22:24.862078Z"
    }
   },
   "outputs": [
    {
     "data": {
      "text/html": [
       "<div>\n",
       "<style scoped>\n",
       "    .dataframe tbody tr th:only-of-type {\n",
       "        vertical-align: middle;\n",
       "    }\n",
       "\n",
       "    .dataframe tbody tr th {\n",
       "        vertical-align: top;\n",
       "    }\n",
       "\n",
       "    .dataframe thead th {\n",
       "        text-align: right;\n",
       "    }\n",
       "</style>\n",
       "<table border=\"1\" class=\"dataframe\">\n",
       "  <thead>\n",
       "    <tr style=\"text-align: right;\">\n",
       "      <th></th>\n",
       "      <th>candidate_id</th>\n",
       "      <th>pred</th>\n",
       "    </tr>\n",
       "  </thead>\n",
       "  <tbody>\n",
       "    <tr>\n",
       "      <th>0</th>\n",
       "      <td>21421</td>\n",
       "      <td>0.544230</td>\n",
       "    </tr>\n",
       "    <tr>\n",
       "      <th>1</th>\n",
       "      <td>21422</td>\n",
       "      <td>0.452499</td>\n",
       "    </tr>\n",
       "  </tbody>\n",
       "</table>\n",
       "</div>"
      ],
      "text/plain": [
       "   candidate_id      pred\n",
       "0         21421  0.544230\n",
       "1         21422  0.452499"
      ]
     },
     "execution_count": 6,
     "metadata": {},
     "output_type": "execute_result"
    }
   ],
   "source": [
    "sentence_prediction_df = (\n",
    "    pd\n",
    "    .read_csv(\"input/all_predicted_dag_sentences.tsv.xz\", sep=\"\\t\")\n",
    "    .sort_values(\"candidate_id\")\n",
    ")\n",
    "sentence_prediction_df.head(2)"
   ]
  },
  {
   "cell_type": "code",
   "execution_count": 7,
   "metadata": {
    "ExecuteTime": {
     "end_time": "2020-01-20T06:22:28.757070Z",
     "start_time": "2020-01-20T06:22:27.033859Z"
    }
   },
   "outputs": [
    {
     "data": {
      "text/html": [
       "<div>\n",
       "<style scoped>\n",
       "    .dataframe tbody tr th:only-of-type {\n",
       "        vertical-align: middle;\n",
       "    }\n",
       "\n",
       "    .dataframe tbody tr th {\n",
       "        vertical-align: top;\n",
       "    }\n",
       "\n",
       "    .dataframe thead th {\n",
       "        text-align: right;\n",
       "    }\n",
       "</style>\n",
       "<table border=\"1\" class=\"dataframe\">\n",
       "  <thead>\n",
       "    <tr style=\"text-align: right;\">\n",
       "      <th></th>\n",
       "      <th>doid_id</th>\n",
       "      <th>doid_name</th>\n",
       "      <th>entrez_gene_id</th>\n",
       "      <th>gene_symbol</th>\n",
       "      <th>text</th>\n",
       "      <th>hetionet</th>\n",
       "      <th>candidate_id</th>\n",
       "      <th>split</th>\n",
       "      <th>pred</th>\n",
       "    </tr>\n",
       "  </thead>\n",
       "  <tbody>\n",
       "    <tr>\n",
       "      <th>0</th>\n",
       "      <td>DOID:2531</td>\n",
       "      <td>hematologic cancer</td>\n",
       "      <td>189</td>\n",
       "      <td>AGXT</td>\n",
       "      <td>A review of the literature since the use of ch...</td>\n",
       "      <td>0</td>\n",
       "      <td>21421</td>\n",
       "      <td>1</td>\n",
       "      <td>0.544230</td>\n",
       "    </tr>\n",
       "    <tr>\n",
       "      <th>1</th>\n",
       "      <td>DOID:1793</td>\n",
       "      <td>pancreatic cancer</td>\n",
       "      <td>3630</td>\n",
       "      <td>INS</td>\n",
       "      <td>The presence of insulin antibodies did not imp...</td>\n",
       "      <td>0</td>\n",
       "      <td>21422</td>\n",
       "      <td>0</td>\n",
       "      <td>0.452499</td>\n",
       "    </tr>\n",
       "  </tbody>\n",
       "</table>\n",
       "</div>"
      ],
      "text/plain": [
       "     doid_id           doid_name  entrez_gene_id gene_symbol  \\\n",
       "0  DOID:2531  hematologic cancer             189        AGXT   \n",
       "1  DOID:1793   pancreatic cancer            3630         INS   \n",
       "\n",
       "                                                text  hetionet  candidate_id  \\\n",
       "0  A review of the literature since the use of ch...         0         21421   \n",
       "1  The presence of insulin antibodies did not imp...         0         21422   \n",
       "\n",
       "   split      pred  \n",
       "0      1  0.544230  \n",
       "1      0  0.452499  "
      ]
     },
     "execution_count": 7,
     "metadata": {},
     "output_type": "execute_result"
    }
   ],
   "source": [
    "# DataFrame that combines likelihood scores with each candidate sentence\n",
    "total_candidates_pred_df = (\n",
    "    total_candidates_df[[\n",
    "    \"doid_id\", \"doid_name\", \n",
    "    \"entrez_gene_id\", \"gene_symbol\", \n",
    "    \"text\", \"hetionet\",\n",
    "    \"candidate_id\", \"split\"\n",
    "    ]]\n",
    "    .merge(sentence_prediction_df, on=\"candidate_id\")\n",
    ")\n",
    "\n",
    "#total_candidates_pred_df.to_csv(\n",
    "#    \"output/combined_predicted_dag_sentences.tsv.xz\", \n",
    "#    sep=\"\\t\", index=False, compression=\"xz\"\n",
    "#)\n",
    "\n",
    "total_candidates_pred_df.head(2)"
   ]
  },
  {
   "cell_type": "code",
   "execution_count": 8,
   "metadata": {
    "ExecuteTime": {
     "end_time": "2020-01-20T06:22:30.173206Z",
     "start_time": "2020-01-20T06:22:28.759393Z"
    }
   },
   "outputs": [
    {
     "data": {
      "text/html": [
       "<div>\n",
       "<style scoped>\n",
       "    .dataframe tbody tr th:only-of-type {\n",
       "        vertical-align: middle;\n",
       "    }\n",
       "\n",
       "    .dataframe tbody tr th {\n",
       "        vertical-align: top;\n",
       "    }\n",
       "\n",
       "    .dataframe thead tr th {\n",
       "        text-align: left;\n",
       "    }\n",
       "</style>\n",
       "<table border=\"1\" class=\"dataframe\">\n",
       "  <thead>\n",
       "    <tr>\n",
       "      <th></th>\n",
       "      <th>doid_id</th>\n",
       "      <th>entrez_gene_id</th>\n",
       "      <th colspan=\"3\" halign=\"left\">pred</th>\n",
       "      <th>hetionet</th>\n",
       "      <th>gene_symbol</th>\n",
       "      <th>doid_name</th>\n",
       "      <th>split</th>\n",
       "    </tr>\n",
       "    <tr>\n",
       "      <th></th>\n",
       "      <th></th>\n",
       "      <th></th>\n",
       "      <th>max</th>\n",
       "      <th>mean</th>\n",
       "      <th>median</th>\n",
       "      <th>first</th>\n",
       "      <th>first</th>\n",
       "      <th>first</th>\n",
       "      <th>first</th>\n",
       "    </tr>\n",
       "  </thead>\n",
       "  <tbody>\n",
       "    <tr>\n",
       "      <th>0</th>\n",
       "      <td>DOID:0050156</td>\n",
       "      <td>2</td>\n",
       "      <td>0.445878</td>\n",
       "      <td>0.434481</td>\n",
       "      <td>0.434481</td>\n",
       "      <td>0</td>\n",
       "      <td>A2M</td>\n",
       "      <td>idiopathic pulmonary fibrosis</td>\n",
       "      <td>2</td>\n",
       "    </tr>\n",
       "    <tr>\n",
       "      <th>1</th>\n",
       "      <td>DOID:0050156</td>\n",
       "      <td>16</td>\n",
       "      <td>0.634072</td>\n",
       "      <td>0.590702</td>\n",
       "      <td>0.589147</td>\n",
       "      <td>0</td>\n",
       "      <td>AARS</td>\n",
       "      <td>idiopathic pulmonary fibrosis</td>\n",
       "      <td>2</td>\n",
       "    </tr>\n",
       "  </tbody>\n",
       "</table>\n",
       "</div>"
      ],
      "text/plain": [
       "        doid_id entrez_gene_id      pred                     hetionet  \\\n",
       "                                     max      mean    median    first   \n",
       "0  DOID:0050156              2  0.445878  0.434481  0.434481        0   \n",
       "1  DOID:0050156             16  0.634072  0.590702  0.589147        0   \n",
       "\n",
       "  gene_symbol                      doid_name split  \n",
       "        first                          first first  \n",
       "0         A2M  idiopathic pulmonary fibrosis     2  \n",
       "1        AARS  idiopathic pulmonary fibrosis     2  "
      ]
     },
     "execution_count": 8,
     "metadata": {},
     "output_type": "execute_result"
    }
   ],
   "source": [
    "# DataFrame that groups disease and gene mentions together and takes\n",
    "# the max, median and mean of each group\n",
    "grouped_candidates_pred_df=(\n",
    "    total_candidates_pred_df\n",
    "    .groupby([\"doid_id\", \"entrez_gene_id\"], as_index=False)\n",
    "    .agg({\n",
    "        \"pred\": ['max', 'mean', 'median'], \n",
    "        'hetionet': 'first',\n",
    "        \"gene_symbol\": 'first',\n",
    "        \"doid_name\": 'first',\n",
    "        \"split\": 'first'\n",
    "    })\n",
    ")\n",
    "grouped_candidates_pred_df.head(2)"
   ]
  },
  {
   "cell_type": "code",
   "execution_count": 9,
   "metadata": {
    "ExecuteTime": {
     "end_time": "2020-01-20T06:22:30.202105Z",
     "start_time": "2020-01-20T06:22:30.174880Z"
    }
   },
   "outputs": [
    {
     "data": {
      "text/html": [
       "<div>\n",
       "<style scoped>\n",
       "    .dataframe tbody tr th:only-of-type {\n",
       "        vertical-align: middle;\n",
       "    }\n",
       "\n",
       "    .dataframe tbody tr th {\n",
       "        vertical-align: top;\n",
       "    }\n",
       "\n",
       "    .dataframe thead th {\n",
       "        text-align: right;\n",
       "    }\n",
       "</style>\n",
       "<table border=\"1\" class=\"dataframe\">\n",
       "  <thead>\n",
       "    <tr style=\"text-align: right;\">\n",
       "      <th></th>\n",
       "      <th>doid_id</th>\n",
       "      <th>entrez_gene_id</th>\n",
       "      <th>pred_max</th>\n",
       "      <th>pred_mean</th>\n",
       "      <th>pred_median</th>\n",
       "      <th>hetionet</th>\n",
       "      <th>gene_symbol</th>\n",
       "      <th>doid_name</th>\n",
       "      <th>split</th>\n",
       "    </tr>\n",
       "  </thead>\n",
       "  <tbody>\n",
       "    <tr>\n",
       "      <th>0</th>\n",
       "      <td>DOID:0050156</td>\n",
       "      <td>2</td>\n",
       "      <td>0.445878</td>\n",
       "      <td>0.434481</td>\n",
       "      <td>0.434481</td>\n",
       "      <td>0</td>\n",
       "      <td>A2M</td>\n",
       "      <td>idiopathic pulmonary fibrosis</td>\n",
       "      <td>2</td>\n",
       "    </tr>\n",
       "    <tr>\n",
       "      <th>1</th>\n",
       "      <td>DOID:0050156</td>\n",
       "      <td>16</td>\n",
       "      <td>0.634072</td>\n",
       "      <td>0.590702</td>\n",
       "      <td>0.589147</td>\n",
       "      <td>0</td>\n",
       "      <td>AARS</td>\n",
       "      <td>idiopathic pulmonary fibrosis</td>\n",
       "      <td>2</td>\n",
       "    </tr>\n",
       "  </tbody>\n",
       "</table>\n",
       "</div>"
      ],
      "text/plain": [
       "        doid_id  entrez_gene_id  pred_max  pred_mean  pred_median  hetionet  \\\n",
       "0  DOID:0050156               2  0.445878   0.434481     0.434481         0   \n",
       "1  DOID:0050156              16  0.634072   0.590702     0.589147         0   \n",
       "\n",
       "  gene_symbol                      doid_name  split  \n",
       "0         A2M  idiopathic pulmonary fibrosis      2  \n",
       "1        AARS  idiopathic pulmonary fibrosis      2  "
      ]
     },
     "execution_count": 9,
     "metadata": {},
     "output_type": "execute_result"
    }
   ],
   "source": [
    "grouped_candidates_pred_df.columns = [\n",
    "    \"_\".join(col) \n",
    "    if col[1] != '' and col[0] not in ['hetionet', 'gene_symbol', 'doid_name', 'split'] else col[0] \n",
    "    for col in grouped_candidates_pred_df.columns.values\n",
    "]\n",
    "\n",
    "grouped_candidates_pred_df.head(2)"
   ]
  },
  {
   "cell_type": "code",
   "execution_count": 10,
   "metadata": {
    "ExecuteTime": {
     "end_time": "2020-01-20T06:22:30.236906Z",
     "start_time": "2020-01-20T06:22:30.203398Z"
    }
   },
   "outputs": [
    {
     "data": {
      "text/html": [
       "<div>\n",
       "<style scoped>\n",
       "    .dataframe tbody tr th:only-of-type {\n",
       "        vertical-align: middle;\n",
       "    }\n",
       "\n",
       "    .dataframe tbody tr th {\n",
       "        vertical-align: top;\n",
       "    }\n",
       "\n",
       "    .dataframe thead th {\n",
       "        text-align: right;\n",
       "    }\n",
       "</style>\n",
       "<table border=\"1\" class=\"dataframe\">\n",
       "  <thead>\n",
       "    <tr style=\"text-align: right;\">\n",
       "      <th></th>\n",
       "      <th>doid_id</th>\n",
       "      <th>entrez_gene_id</th>\n",
       "      <th>pred_max</th>\n",
       "      <th>pred_mean</th>\n",
       "      <th>pred_median</th>\n",
       "      <th>hetionet</th>\n",
       "      <th>gene_symbol</th>\n",
       "      <th>doid_name</th>\n",
       "    </tr>\n",
       "  </thead>\n",
       "  <tbody>\n",
       "    <tr>\n",
       "      <th>0</th>\n",
       "      <td>DOID:0050156</td>\n",
       "      <td>2</td>\n",
       "      <td>0.445878</td>\n",
       "      <td>0.434481</td>\n",
       "      <td>0.434481</td>\n",
       "      <td>0</td>\n",
       "      <td>A2M</td>\n",
       "      <td>idiopathic pulmonary fibrosis</td>\n",
       "    </tr>\n",
       "    <tr>\n",
       "      <th>1</th>\n",
       "      <td>DOID:0050156</td>\n",
       "      <td>16</td>\n",
       "      <td>0.634072</td>\n",
       "      <td>0.590702</td>\n",
       "      <td>0.589147</td>\n",
       "      <td>0</td>\n",
       "      <td>AARS</td>\n",
       "      <td>idiopathic pulmonary fibrosis</td>\n",
       "    </tr>\n",
       "  </tbody>\n",
       "</table>\n",
       "</div>"
      ],
      "text/plain": [
       "        doid_id  entrez_gene_id  pred_max  pred_mean  pred_median  hetionet  \\\n",
       "0  DOID:0050156               2  0.445878   0.434481     0.434481         0   \n",
       "1  DOID:0050156              16  0.634072   0.590702     0.589147         0   \n",
       "\n",
       "  gene_symbol                      doid_name  \n",
       "0         A2M  idiopathic pulmonary fibrosis  \n",
       "1        AARS  idiopathic pulmonary fibrosis  "
      ]
     },
     "execution_count": 10,
     "metadata": {},
     "output_type": "execute_result"
    }
   ],
   "source": [
    "grouped_candidates_pred_subet_df = (\n",
    "    grouped_candidates_pred_df\n",
    "    .query(\"split==2\")\n",
    "    .drop(\"split\", axis=1)\n",
    ")\n",
    "grouped_candidates_pred_subet_df.head(2)"
   ]
  },
  {
   "cell_type": "code",
   "execution_count": 11,
   "metadata": {
    "ExecuteTime": {
     "end_time": "2020-01-20T06:22:30.261761Z",
     "start_time": "2020-01-20T06:22:30.239420Z"
    },
    "scrolled": true
   },
   "outputs": [
    {
     "data": {
      "text/plain": [
       "0    13928\n",
       "1      943\n",
       "Name: hetionet, dtype: int64"
      ]
     },
     "execution_count": 11,
     "metadata": {},
     "output_type": "execute_result"
    }
   ],
   "source": [
    "grouped_candidates_pred_subet_df.hetionet.value_counts()"
   ]
  },
  {
   "cell_type": "markdown",
   "metadata": {},
   "source": [
    "# Best Sentence Representation Metric"
   ]
  },
  {
   "cell_type": "markdown",
   "metadata": {},
   "source": [
    "This section aims to answer the question: What metric (Mean, Max, Median) best predicts Hetionet Edges?"
   ]
  },
  {
   "cell_type": "code",
   "execution_count": 12,
   "metadata": {
    "ExecuteTime": {
     "end_time": "2020-01-20T06:22:30.282200Z",
     "start_time": "2020-01-20T06:22:30.263186Z"
    }
   },
   "outputs": [],
   "source": [
    "performance_map = {}"
   ]
  },
  {
   "cell_type": "code",
   "execution_count": 13,
   "metadata": {
    "ExecuteTime": {
     "end_time": "2020-01-20T06:22:30.315173Z",
     "start_time": "2020-01-20T06:22:30.283518Z"
    }
   },
   "outputs": [],
   "source": [
    "precision, recall, pr_threshold = precision_recall_curve(\n",
    "    grouped_candidates_pred_subet_df.hetionet, \n",
    "    grouped_candidates_pred_subet_df.pred_max,\n",
    ")\n",
    "\n",
    "fpr, tpr, roc_threshold = roc_curve(\n",
    "    grouped_candidates_pred_subet_df.hetionet, \n",
    "    grouped_candidates_pred_subet_df.pred_max,\n",
    ")\n",
    "\n",
    "performance_map['max'] = {\n",
    "    \"precision\":precision, \"recall\":recall, \n",
    "    \"pr_threshold\":pr_threshold, \"false_pos\":fpr,\n",
    "    \"true_pos\":tpr, \"roc_threshold\":roc_threshold, \n",
    "}"
   ]
  },
  {
   "cell_type": "code",
   "execution_count": 14,
   "metadata": {
    "ExecuteTime": {
     "end_time": "2020-01-20T06:22:30.341946Z",
     "start_time": "2020-01-20T06:22:30.316457Z"
    }
   },
   "outputs": [],
   "source": [
    "precision, recall, pr_threshold = precision_recall_curve(\n",
    "    grouped_candidates_pred_subet_df.hetionet, \n",
    "    grouped_candidates_pred_subet_df.pred_mean,\n",
    ")\n",
    "\n",
    "fpr, tpr, roc_threshold = roc_curve(\n",
    "    grouped_candidates_pred_subet_df.hetionet, \n",
    "    grouped_candidates_pred_subet_df.pred_mean,\n",
    ")\n",
    "\n",
    "performance_map['mean'] = {\n",
    "    \"precision\":precision, \"recall\":recall, \n",
    "    \"pr_threshold\":pr_threshold, \"false_pos\":fpr,\n",
    "    \"true_pos\":tpr, \"roc_threshold\":roc_threshold, \n",
    "}"
   ]
  },
  {
   "cell_type": "code",
   "execution_count": 15,
   "metadata": {
    "ExecuteTime": {
     "end_time": "2020-01-20T06:22:30.368160Z",
     "start_time": "2020-01-20T06:22:30.343259Z"
    }
   },
   "outputs": [],
   "source": [
    "precision, recall, pr_threshold = precision_recall_curve(\n",
    "    grouped_candidates_pred_subet_df.hetionet, \n",
    "    grouped_candidates_pred_subet_df.pred_median,\n",
    ")\n",
    "\n",
    "fpr, tpr, roc_threshold = roc_curve(\n",
    "    grouped_candidates_pred_subet_df.hetionet, \n",
    "    grouped_candidates_pred_subet_df.pred_median,\n",
    ")\n",
    "\n",
    "performance_map['median'] = {\n",
    "    \"precision\":precision, \"recall\":recall, \n",
    "    \"pr_threshold\":pr_threshold, \"false_pos\":fpr,\n",
    "    \"true_pos\":tpr, \"roc_threshold\":roc_threshold, \n",
    "}"
   ]
  },
  {
   "cell_type": "code",
   "execution_count": 16,
   "metadata": {
    "ExecuteTime": {
     "end_time": "2020-01-20T06:22:30.598037Z",
     "start_time": "2020-01-20T06:22:30.369668Z"
    }
   },
   "outputs": [
    {
     "data": {
      "image/png": "[encoded data removed]",
      "text/plain": [
       "<Figure size 432x288 with 1 Axes>"
      ]
     },
     "metadata": {
      "needs_background": "light"
     },
     "output_type": "display_data"
    }
   ],
   "source": [
    "for key in performance_map:\n",
    "    plt.plot(\n",
    "        performance_map[key]['false_pos'], \n",
    "        performance_map[key]['true_pos'], \n",
    "        label=f\"{key}:AUC ({auc(performance_map[key]['false_pos'], performance_map[key]['true_pos']):.3f})\"\n",
    "    )\n",
    "plt.plot([0,1], [0,1], linestyle='--', color='black')\n",
    "plt.legend()\n",
    "plt.show()"
   ]
  },
  {
   "cell_type": "code",
   "execution_count": 17,
   "metadata": {
    "ExecuteTime": {
     "end_time": "2020-01-20T06:22:30.775887Z",
     "start_time": "2020-01-20T06:22:30.599296Z"
    }
   },
   "outputs": [
    {
     "data": {
      "image/png": "[encoded data removed]",
      "text/plain": [
       "<Figure size 432x288 with 1 Axes>"
      ]
     },
     "metadata": {
      "needs_background": "light"
     },
     "output_type": "display_data"
    }
   ],
   "source": [
    "for key in performance_map:\n",
    "    plt.plot(\n",
    "        performance_map[key]['recall'], \n",
    "        performance_map[key]['precision'], \n",
    "        label=f\"{key}:AUC ({auc(performance_map[key]['recall'], performance_map[key]['precision']):.3f})\"\n",
    "    )\n",
    "\n",
    "plt.legend()\n",
    "plt.show()"
   ]
  },
  {
   "cell_type": "markdown",
   "metadata": {},
   "source": [
    "# Optimal Cutoff Using PR-CURVE "
   ]
  },
  {
   "cell_type": "code",
   "execution_count": 18,
   "metadata": {
    "ExecuteTime": {
     "end_time": "2020-01-20T06:22:30.811855Z",
     "start_time": "2020-01-20T06:22:30.777312Z"
    }
   },
   "outputs": [
    {
     "data": {
      "text/html": [
       "<div>\n",
       "<style scoped>\n",
       "    .dataframe tbody tr th:only-of-type {\n",
       "        vertical-align: middle;\n",
       "    }\n",
       "\n",
       "    .dataframe tbody tr th {\n",
       "        vertical-align: top;\n",
       "    }\n",
       "\n",
       "    .dataframe thead th {\n",
       "        text-align: right;\n",
       "    }\n",
       "</style>\n",
       "<table border=\"1\" class=\"dataframe\">\n",
       "  <thead>\n",
       "    <tr style=\"text-align: right;\">\n",
       "      <th></th>\n",
       "      <th>precision</th>\n",
       "      <th>recall</th>\n",
       "      <th>pr_threshold</th>\n",
       "    </tr>\n",
       "  </thead>\n",
       "  <tbody>\n",
       "    <tr>\n",
       "      <th>14252</th>\n",
       "      <td>1.0</td>\n",
       "      <td>0.001060</td>\n",
       "      <td>0.947382</td>\n",
       "    </tr>\n",
       "    <tr>\n",
       "      <th>14251</th>\n",
       "      <td>1.0</td>\n",
       "      <td>0.002121</td>\n",
       "      <td>0.936937</td>\n",
       "    </tr>\n",
       "  </tbody>\n",
       "</table>\n",
       "</div>"
      ],
      "text/plain": [
       "       precision    recall  pr_threshold\n",
       "14252        1.0  0.001060      0.947382\n",
       "14251        1.0  0.002121      0.936937"
      ]
     },
     "execution_count": 18,
     "metadata": {},
     "output_type": "execute_result"
    }
   ],
   "source": [
    "threshold_df = (\n",
    "    pd.DataFrame(\n",
    "        list(\n",
    "            zip(\n",
    "                performance_map['max']['precision'], \n",
    "                performance_map['max']['recall'], \n",
    "                performance_map['max']['pr_threshold']\n",
    "            )\n",
    "        ),\n",
    "        columns=[\"precision\", \"recall\", \"pr_threshold\"]\n",
    "    )\n",
    "    .sort_values(\"precision\", ascending=False)\n",
    ")\n",
    "threshold_df.head(2)"
   ]
  },
  {
   "cell_type": "code",
   "execution_count": 19,
   "metadata": {
    "ExecuteTime": {
     "end_time": "2020-01-20T06:22:31.137871Z",
     "start_time": "2020-01-20T06:22:30.813073Z"
    }
   },
   "outputs": [
    {
     "data": {
      "text/html": [
       "<div>\n",
       "<style scoped>\n",
       "    .dataframe tbody tr th:only-of-type {\n",
       "        vertical-align: middle;\n",
       "    }\n",
       "\n",
       "    .dataframe tbody tr th {\n",
       "        vertical-align: top;\n",
       "    }\n",
       "\n",
       "    .dataframe thead th {\n",
       "        text-align: right;\n",
       "    }\n",
       "</style>\n",
       "<table border=\"1\" class=\"dataframe\">\n",
       "  <thead>\n",
       "    <tr style=\"text-align: right;\">\n",
       "      <th></th>\n",
       "      <th>edges</th>\n",
       "      <th>in_hetionet</th>\n",
       "      <th>precision</th>\n",
       "      <th>sen_cutoff</th>\n",
       "    </tr>\n",
       "  </thead>\n",
       "  <tbody>\n",
       "    <tr>\n",
       "      <th>0</th>\n",
       "      <td>8</td>\n",
       "      <td>Existing</td>\n",
       "      <td>1.00</td>\n",
       "      <td>0.922116</td>\n",
       "    </tr>\n",
       "    <tr>\n",
       "      <th>1</th>\n",
       "      <td>9</td>\n",
       "      <td>Existing</td>\n",
       "      <td>0.90</td>\n",
       "      <td>0.918376</td>\n",
       "    </tr>\n",
       "    <tr>\n",
       "      <th>2</th>\n",
       "      <td>1</td>\n",
       "      <td>Novel</td>\n",
       "      <td>0.90</td>\n",
       "      <td>0.918376</td>\n",
       "    </tr>\n",
       "    <tr>\n",
       "      <th>3</th>\n",
       "      <td>9</td>\n",
       "      <td>Existing</td>\n",
       "      <td>0.89</td>\n",
       "      <td>0.918376</td>\n",
       "    </tr>\n",
       "    <tr>\n",
       "      <th>4</th>\n",
       "      <td>1</td>\n",
       "      <td>Novel</td>\n",
       "      <td>0.89</td>\n",
       "      <td>0.918376</td>\n",
       "    </tr>\n",
       "    <tr>\n",
       "      <th>5</th>\n",
       "      <td>9</td>\n",
       "      <td>Existing</td>\n",
       "      <td>0.86</td>\n",
       "      <td>0.918376</td>\n",
       "    </tr>\n",
       "    <tr>\n",
       "      <th>6</th>\n",
       "      <td>1</td>\n",
       "      <td>Novel</td>\n",
       "      <td>0.86</td>\n",
       "      <td>0.918376</td>\n",
       "    </tr>\n",
       "    <tr>\n",
       "      <th>7</th>\n",
       "      <td>18</td>\n",
       "      <td>Existing</td>\n",
       "      <td>0.85</td>\n",
       "      <td>0.911369</td>\n",
       "    </tr>\n",
       "    <tr>\n",
       "      <th>8</th>\n",
       "      <td>3</td>\n",
       "      <td>Novel</td>\n",
       "      <td>0.85</td>\n",
       "      <td>0.911369</td>\n",
       "    </tr>\n",
       "    <tr>\n",
       "      <th>9</th>\n",
       "      <td>18</td>\n",
       "      <td>Existing</td>\n",
       "      <td>0.84</td>\n",
       "      <td>0.911369</td>\n",
       "    </tr>\n",
       "  </tbody>\n",
       "</table>\n",
       "</div>"
      ],
      "text/plain": [
       "   edges in_hetionet  precision  sen_cutoff\n",
       "0      8    Existing       1.00    0.922116\n",
       "1      9    Existing       0.90    0.918376\n",
       "2      1       Novel       0.90    0.918376\n",
       "3      9    Existing       0.89    0.918376\n",
       "4      1       Novel       0.89    0.918376\n",
       "5      9    Existing       0.86    0.918376\n",
       "6      1       Novel       0.86    0.918376\n",
       "7     18    Existing       0.85    0.911369\n",
       "8      3       Novel       0.85    0.911369\n",
       "9     18    Existing       0.84    0.911369"
      ]
     },
     "execution_count": 19,
     "metadata": {},
     "output_type": "execute_result"
    }
   ],
   "source": [
    "#precision_thresholds = pd.np.linspace(0,1,num=5)\n",
    "precision_thresholds = threshold_df.round(2).drop_duplicates(\"precision\").precision.values\n",
    "\n",
    "# Add the lowest precision rather than\n",
    "# Keep it zero\n",
    "precision_thresholds = (\n",
    "    pd.np.where(\n",
    "        precision_thresholds==0, \n",
    "        threshold_df.precision.min(), \n",
    "        precision_thresholds\n",
    "    )\n",
    ")\n",
    "\n",
    "performance_records = []\n",
    "for precision_cutoff in precision_thresholds:\n",
    "\n",
    "    cutoff = (\n",
    "        threshold_df\n",
    "        .query(\"precision>=@precision_cutoff\")\n",
    "        .pr_threshold\n",
    "        .min()\n",
    "    )\n",
    "    \n",
    "    values_added = (\n",
    "        grouped_candidates_pred_subet_df\n",
    "        .query(\"pred_max >= @cutoff\")\n",
    "        .hetionet\n",
    "        .value_counts()\n",
    "    )\n",
    "    \n",
    "    series_keys = list(values_added.keys())\n",
    "    for key in series_keys:\n",
    "        performance_records.append(\n",
    "           {  \n",
    "               \"edges\": values_added[key], \n",
    "               \"in_hetionet\": \"Existing\" if key == 1 else \"Novel\", \n",
    "               \"precision\": precision_cutoff,\n",
    "               \"sen_cutoff\": cutoff\n",
    "           }\n",
    "        )\n",
    "   \n",
    "    \n",
    "edges_added_df = (\n",
    "    pd\n",
    "    .DataFrame\n",
    "    .from_records(performance_records)\n",
    ")\n",
    "edges_added_df.head(10)"
   ]
  },
  {
   "cell_type": "code",
   "execution_count": 20,
   "metadata": {
    "ExecuteTime": {
     "end_time": "2020-01-20T06:22:31.744631Z",
     "start_time": "2020-01-20T06:22:31.139229Z"
    },
    "scrolled": true
   },
   "outputs": [
    {
     "data": {
      "text/plain": [
       "[None]"
      ]
     },
     "execution_count": 20,
     "metadata": {},
     "output_type": "execute_result"
    },
    {
     "data": {
      "image/png": "[encoded data removed]",
      "text/plain": [
       "<Figure size 432x288 with 1 Axes>"
      ]
     },
     "metadata": {
      "needs_background": "light"
     },
     "output_type": "display_data"
    }
   ],
   "source": [
    "ax = sns.scatterplot(x=\"precision\", y=\"edges\", hue=\"in_hetionet\", data=edges_added_df)\n",
    "ax.set(yscale=\"log\")"
   ]
  },
  {
   "cell_type": "code",
   "execution_count": 21,
   "metadata": {
    "ExecuteTime": {
     "end_time": "2020-01-20T06:22:31.767523Z",
     "start_time": "2020-01-20T06:22:31.746148Z"
    }
   },
   "outputs": [],
   "source": [
    "edges_added_df.to_csv(\"output/precision_dag_edges_added.tsv\", index=False, sep=\"\\t\")"
   ]
  },
  {
   "cell_type": "markdown",
   "metadata": {},
   "source": [
    "# Total Recalled Edges"
   ]
  },
  {
   "cell_type": "markdown",
   "metadata": {},
   "source": [
    "How many edges of hetionet can we recall using an equal error rate cutoff score?"
   ]
  },
  {
   "cell_type": "code",
   "execution_count": 22,
   "metadata": {
    "ExecuteTime": {
     "end_time": "2020-01-20T06:22:31.794349Z",
     "start_time": "2020-01-20T06:22:31.769346Z"
    }
   },
   "outputs": [],
   "source": [
    "def tag_sentence(x):\n",
    "    candidates=(\n",
    "        session\n",
    "        .query(DiseaseGene)\n",
    "        .filter(DiseaseGene.id.in_(x.candidate_id.astype(int).tolist()))\n",
    "        .all()\n",
    "    )\n",
    "    tagged_sen=[\n",
    "         \" \".join(\n",
    "             mark_sentence(\n",
    "                candidate_to_tokens(cand), \n",
    "                [\n",
    "                        (cand[0].get_word_start(), cand[0].get_word_end(), 1),\n",
    "                        (cand[1].get_word_start(), cand[1].get_word_end(), 2)\n",
    "                ]\n",
    "            )\n",
    "         )\n",
    "        for cand in candidates\n",
    "    ]\n",
    "\n",
    "    return tagged_sen"
   ]
  },
  {
   "cell_type": "code",
   "execution_count": 23,
   "metadata": {
    "ExecuteTime": {
     "end_time": "2020-01-20T06:22:38.913146Z",
     "start_time": "2020-01-20T06:22:31.797797Z"
    }
   },
   "outputs": [
    {
     "data": {
      "text/html": [
       "<div>\n",
       "<style scoped>\n",
       "    .dataframe tbody tr th:only-of-type {\n",
       "        vertical-align: middle;\n",
       "    }\n",
       "\n",
       "    .dataframe tbody tr th {\n",
       "        vertical-align: top;\n",
       "    }\n",
       "\n",
       "    .dataframe thead th {\n",
       "        text-align: right;\n",
       "    }\n",
       "</style>\n",
       "<table border=\"1\" class=\"dataframe\">\n",
       "  <thead>\n",
       "    <tr style=\"text-align: right;\">\n",
       "      <th></th>\n",
       "      <th>gen_pred</th>\n",
       "      <th>candidate_id</th>\n",
       "    </tr>\n",
       "  </thead>\n",
       "  <tbody>\n",
       "    <tr>\n",
       "      <th>0</th>\n",
       "      <td>0.98058</td>\n",
       "      <td>21422</td>\n",
       "    </tr>\n",
       "    <tr>\n",
       "      <th>1</th>\n",
       "      <td>1.00000</td>\n",
       "      <td>21427</td>\n",
       "    </tr>\n",
       "  </tbody>\n",
       "</table>\n",
       "</div>"
      ],
      "text/plain": [
       "   gen_pred  candidate_id\n",
       "0   0.98058         21422\n",
       "1   1.00000         21427"
      ]
     },
     "execution_count": 23,
     "metadata": {},
     "output_type": "execute_result"
    }
   ],
   "source": [
    "gen_pred_df = (\n",
    "    pd.read_csv(\"../label_sampling_experiment/results/DaG/marginals/train/30_sampled_train.tsv.xz\", sep=\"\\t\")\n",
    "    .iloc[:, [0,-1]]\n",
    "    .append(\n",
    "        pd.read_csv(\"../label_sampling_experiment/results/DaG/marginals/tune/30_sampled_dev.tsv\", sep=\"\\t\")\n",
    "        .iloc[:, [0,-1]]\n",
    "    )\n",
    "    .append(\n",
    "        pd.read_csv(\"../label_sampling_experiment/results/DaG/marginals/test/30_sampled_test.tsv\", sep=\"\\t\")\n",
    "        .iloc[:, [0,-1]]\n",
    "    )\n",
    ")\n",
    "gen_pred_df.columns = [\"gen_pred\", \"candidate_id\"]\n",
    "gen_pred_df.head(2)"
   ]
  },
  {
   "cell_type": "code",
   "execution_count": 24,
   "metadata": {
    "ExecuteTime": {
     "end_time": "2020-01-20T06:23:07.045709Z",
     "start_time": "2020-01-20T06:22:38.915449Z"
    }
   },
   "outputs": [],
   "source": [
    "(\n",
    "    total_candidates_pred_df.iloc[\n",
    "        total_candidates_pred_df\n",
    "        .groupby([\"doid_id\", \"entrez_gene_id\"], as_index=False)\n",
    "        .agg({\n",
    "            \"pred\": 'idxmax'\n",
    "        })\n",
    "        .pred\n",
    "    ]\n",
    "    .merge(gen_pred_df, on=[\"candidate_id\"])\n",
    "    .assign(edge_type=\"DaG\")\n",
    "    .sort_values(\"pred\", ascending=False)\n",
    "    .head(10)\n",
    "    .sort_values(\"candidate_id\")\n",
    "    .assign(text=lambda x: tag_sentence(x))\n",
    "    .merge(total_candidates_df[[\"n_sentences\", \"candidate_id\"]], on=\"candidate_id\")\n",
    "    .sort_values(\"pred\", ascending=False)\n",
    "    .assign(hetionet=lambda x: x.hetionet.apply(lambda x: \"Existing\" if x == 1 else \"Novel\"))\n",
    "    [[\"edge_type\", \"doid_name\", \"gene_symbol\", \"gen_pred\", \"pred\", \"n_sentences\", \"hetionet\", \"text\"]]\n",
    "    .to_csv(\"output/top_ten_edge_predictions.tsv\", sep=\"\\t\", index=False, float_format=\"%.3g\")\n",
    ")"
   ]
  },
  {
   "cell_type": "code",
   "execution_count": 25,
   "metadata": {
    "ExecuteTime": {
     "end_time": "2020-01-20T06:23:07.118226Z",
     "start_time": "2020-01-20T06:23:07.046953Z"
    }
   },
   "outputs": [
    {
     "data": {
      "text/html": [
       "<div>\n",
       "<style scoped>\n",
       "    .dataframe tbody tr th:only-of-type {\n",
       "        vertical-align: middle;\n",
       "    }\n",
       "\n",
       "    .dataframe tbody tr th {\n",
       "        vertical-align: top;\n",
       "    }\n",
       "\n",
       "    .dataframe thead th {\n",
       "        text-align: right;\n",
       "    }\n",
       "</style>\n",
       "<table border=\"1\" class=\"dataframe\">\n",
       "  <thead>\n",
       "    <tr style=\"text-align: right;\">\n",
       "      <th></th>\n",
       "      <th>recall</th>\n",
       "      <th>edges</th>\n",
       "      <th>in_hetionet</th>\n",
       "      <th>total</th>\n",
       "      <th>relation</th>\n",
       "    </tr>\n",
       "  </thead>\n",
       "  <tbody>\n",
       "    <tr>\n",
       "      <th>0</th>\n",
       "      <td>0.691353</td>\n",
       "      <td>6516</td>\n",
       "      <td>Existing</td>\n",
       "      <td>9425.0</td>\n",
       "      <td>DaG</td>\n",
       "    </tr>\n",
       "    <tr>\n",
       "      <th>1</th>\n",
       "      <td>NaN</td>\n",
       "      <td>42986</td>\n",
       "      <td>Novel</td>\n",
       "      <td>NaN</td>\n",
       "      <td>DaG</td>\n",
       "    </tr>\n",
       "  </tbody>\n",
       "</table>\n",
       "</div>"
      ],
      "text/plain": [
       "     recall  edges in_hetionet   total relation\n",
       "0  0.691353   6516    Existing  9425.0      DaG\n",
       "1       NaN  42986       Novel     NaN      DaG"
      ]
     },
     "execution_count": 25,
     "metadata": {},
     "output_type": "execute_result"
    }
   ],
   "source": [
    "datarows = []\n",
    "fpr, tpr, threshold = roc_curve(\n",
    "    grouped_candidates_pred_df.hetionet.values, \n",
    "    grouped_candidates_pred_df.pred_max.values\n",
    ")\n",
    "\n",
    "fnr = 1 - tpr\n",
    "optimal_threshold = threshold[pd.np.nanargmin(pd.np.absolute((fnr - fpr)))]\n",
    "\n",
    "datarows.append({\n",
    "    \"recall\":(\n",
    "        grouped_candidates_pred_df\n",
    "        .query(\"pred_max > @optimal_threshold\")\n",
    "        .hetionet\n",
    "        .value_counts()[1] /\n",
    "        grouped_candidates_pred_df\n",
    "        .hetionet.\n",
    "        value_counts()[1]\n",
    "    ),\n",
    "    \"edges\":(\n",
    "        grouped_candidates_pred_df\n",
    "        .query(\"pred_max > @optimal_threshold\")\n",
    "        .hetionet\n",
    "        .value_counts()[1]\n",
    "    ),\n",
    "    \"in_hetionet\": \"Existing\",\n",
    "    \"total\": int(grouped_candidates_pred_df.hetionet.value_counts()[1]),\n",
    "    \"relation\":\"DaG\"\n",
    "})\n",
    "datarows.append({\n",
    "    \"edges\":(\n",
    "        grouped_candidates_pred_df\n",
    "        .query(\"pred_max > @optimal_threshold\")\n",
    "        .hetionet\n",
    "        .value_counts()[0]\n",
    "    ),\n",
    "    \"in_hetionet\": \"Novel\",\n",
    "    \"relation\":\"DaG\"\n",
    "})\n",
    "edges_df = pd.DataFrame.from_records(datarows)\n",
    "edges_df"
   ]
  },
  {
   "cell_type": "code",
   "execution_count": 26,
   "metadata": {
    "ExecuteTime": {
     "end_time": "2020-01-20T06:23:07.586481Z",
     "start_time": "2020-01-20T06:23:07.119628Z"
    }
   },
   "outputs": [
    {
     "data": {
      "image/png": "[encoded data removed]",
      "text/plain": [
       "<Figure size 640x480 with 1 Axes>"
      ]
     },
     "metadata": {
      "needs_background": "light"
     },
     "output_type": "display_data"
    },
    {
     "name": "stdout",
     "output_type": "stream",
     "text": [
      "<ggplot: (8733607876058)>\n"
     ]
    }
   ],
   "source": [
    "import math\n",
    "g = (\n",
    "    p9.ggplot(edges_df, p9.aes(x=\"relation\", y=\"edges\", fill=\"in_hetionet\"))\n",
    "    + p9.geom_col(position=\"dodge\")\n",
    "    + p9.geom_text(\n",
    "        p9.aes(\n",
    "            label=(\n",
    "                edges_df\n",
    "                .apply(\n",
    "                    lambda x: \n",
    "                    f\"{x['edges']} ({x['recall']*100:.0f}%)\" \n",
    "                    if not math.isnan(x['recall']) else \n",
    "                    f\"{x['edges']}\",\n",
    "                    axis=1\n",
    "                )\n",
    "            )\n",
    "        ),\n",
    "        position=p9.position_dodge(width=1),\n",
    "        size=9,\n",
    "        va=\"bottom\"\n",
    "    )\n",
    "    + p9.scale_y_log10()\n",
    "    + p9.theme(\n",
    "        axis_text_y=p9.element_blank(),\n",
    "        axis_ticks_major = p9.element_blank(),\n",
    "        rect=p9.element_blank()\n",
    "    )\n",
    ")\n",
    "print(g)"
   ]
  }
 ],
 "metadata": {
  "kernelspec": {
   "display_name": "Python [conda env:snorkel_db]",
   "language": "python",
   "name": "conda-env-snorkel_db-py"
  },
  "language_info": {
   "codemirror_mode": {
    "name": "ipython",
    "version": 3
   },
   "file_extension": ".py",
   "mimetype": "text/x-python",
   "name": "python",
   "nbconvert_exporter": "python",
   "pygments_lexer": "ipython3",
   "version": "3.6.0"
  },
  "toc": {
   "base_numbering": 1,
   "nav_menu": {},
   "number_sections": true,
   "sideBar": true,
   "skip_h1_title": false,
   "title_cell": "Table of Contents",
   "title_sidebar": "Contents",
   "toc_cell": false,
   "toc_position": {},
   "toc_section_display": true,
   "toc_window_display": false
  },
  "varInspector": {
   "cols": {
    "lenName": 16,
    "lenType": 16,
    "lenVar": 40
   },
   "kernels_config": {
    "python": {
     "delete_cmd_postfix": "",
     "delete_cmd_prefix": "del ",
     "library": "var_list.py",
     "varRefreshCmd": "print(var_dic_list())"
    },
    "r": {
     "delete_cmd_postfix": ") ",
     "delete_cmd_prefix": "rm(",
     "library": "var_list.r",
     "varRefreshCmd": "cat(var_dic_list()) "
    }
   },
   "types_to_exclude": [
    "module",
    "function",
    "builtin_function_or_method",
    "instance",
    "_Feature"
   ],
   "window_display": false
  }
 },
 "nbformat": 4,
 "nbformat_minor": 2
}
