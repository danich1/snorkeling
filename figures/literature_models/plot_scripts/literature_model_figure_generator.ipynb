{
 "cells": [
  {
   "cell_type": "code",
   "execution_count": 1,
   "metadata": {
    "ExecuteTime": {
     "end_time": "2020-01-26T18:11:46.951336Z",
     "start_time": "2020-01-26T18:11:42.813881Z"
    }
   },
   "outputs": [],
   "source": [
    "%matplotlib inline\n",
    "\n",
    "import os\n",
    "import glob\n",
    "\n",
    "import pandas as pd\n",
    "import plotnine as p9\n",
    "import matplotlib.pyplot as plt\n",
    "import matplotlib.colors as mcolors\n",
    "import scipy.stats as ss\n",
    "from sklearn.metrics import auc, precision_recall_curve, roc_curve"
   ]
  },
  {
   "cell_type": "code",
   "execution_count": 2,
   "metadata": {
    "ExecuteTime": {
     "end_time": "2020-01-26T18:11:46.956396Z",
     "start_time": "2020-01-26T18:11:46.952908Z"
    }
   },
   "outputs": [],
   "source": [
    "file_tree = {\n",
    "        \"DaG\":\n",
    "        {\n",
    "            \"coco_score\": \"../../../disease_gene/disease_associates_gene/literature_models/coco_score/output/dg_edge_prediction_cocoscore.tsv\",\n",
    "            \"our_model\": \"../../../disease_gene/disease_associates_gene/edge_prediction_experiment/output/combined_predicted_dag_sentences.tsv.xz\",\n",
    "            \"labels\": \"../../../disease_gene/disease_associates_gene/dataset_statistics/output/all_dag_candidates.tsv.xz\",\n",
    "            \"split\": 2\n",
    "        },\n",
    "        \"CtD\":\n",
    "        {\n",
    "            \"coco_score\": \"../../../compound_disease/compound_treats_disease/literature_models/coco_score/output/cd_edge_prediction_cocoscore.tsv\",\n",
    "            \"our_model\": \"../../../compound_disease/compound_treats_disease/edge_prediction_experiment/output/combined_predicted_ctd_sentences.tsv.xz\",\n",
    "            \"labels\": \"../../../compound_disease/compound_treats_disease/dataset_statistics/output/all_ctd_candidates.tsv.xz\",\n",
    "            \"split\": 11\n",
    "        },\n",
    "        \"CbG\":\n",
    "        {\n",
    "            \"coco_score\": \"../../../compound_gene/compound_binds_gene/literature_models/coco_score/output/cg_edge_prediction_cocoscore.tsv\",\n",
    "            \"our_model\": \"../../../compound_gene/compound_binds_gene/edge_prediction_experiment/output/combined_predicted_cbg_sentences.tsv.xz\",\n",
    "            \"labels\": \"../../../compound_gene/compound_binds_gene/dataset_statistics/output/all_cbg_candidates.tsv.xz\",\n",
    "            \"split\": 8\n",
    "\n",
    "        },\n",
    "        \"GiG\":\n",
    "        {\n",
    "            \"coco_score\": \"../../../gene_gene/gene_interacts_gene/literature_models/coco_score/output/gg_edge_prediction_cocoscore.tsv\",\n",
    "            \"our_model\": \"../../../gene_gene/gene_interacts_gene/edge_prediction_experiment/output/combined_predicted_gig_sentences.tsv.xz\",\n",
    "            \"labels\": \"../../../gene_gene/gene_interacts_gene/dataset_statistics/output/all_gig_candidates.tsv.xz\",\n",
    "            \"split\": 5\n",
    "        }\n",
    "    }"
   ]
  },
  {
   "cell_type": "code",
   "execution_count": 3,
   "metadata": {
    "ExecuteTime": {
     "end_time": "2020-01-26T18:13:55.089873Z",
     "start_time": "2020-01-26T18:11:46.957954Z"
    }
   },
   "outputs": [],
   "source": [
    "performance_map = {}\n",
    "for rel in file_tree:\n",
    "\n",
    "    id_keys = (\n",
    "            [\"doid_id\", \"entrez_gene_id\"] if rel == \"DaG\" else\n",
    "            [\"doid_id\", \"drugbank_id\"] if rel == \"CtD\" else\n",
    "            [\"drugbank_id\", \"entrez_gene_id\"] if rel == \"CbG\" else\n",
    "            [\"gene1_id\", \"gene2_id\"]\n",
    "        )\n",
    "\n",
    "    # Need to combine marginals together for our model \n",
    "    # AGG function\n",
    "    performance_map[rel] = (\n",
    "        pd.read_csv(file_tree[rel]['coco_score'], sep=\"\\t\")\n",
    "        .rename(index=str, columns={\"final_score\": \"coco_score\"})\n",
    "        .drop(\"hetionet\", axis=1)\n",
    "        .merge(\n",
    "            pd.read_csv(file_tree[rel]['our_model'], sep=\"\\t\")\n",
    "            .groupby(id_keys)\n",
    "            .agg({\n",
    "                \"pred\": 'max',\n",
    "                \"hetionet\":'first',\n",
    "                \"split\": 'first'\n",
    "            })\n",
    "            .reset_index()\n",
    "            [id_keys +[\"hetionet\", \"pred\", \"split\"]],\n",
    "            on=id_keys\n",
    "        )\n",
    "        .query(f\"split=={file_tree[rel]['split']}\")\n",
    "    )"
   ]
  },
  {
   "cell_type": "code",
   "execution_count": 4,
   "metadata": {
    "ExecuteTime": {
     "end_time": "2020-01-26T18:13:55.218609Z",
     "start_time": "2020-01-26T18:13:55.091376Z"
    }
   },
   "outputs": [
    {
     "data": {
      "text/html": [
       "<div>\n",
       "<style scoped>\n",
       "    .dataframe tbody tr th:only-of-type {\n",
       "        vertical-align: middle;\n",
       "    }\n",
       "\n",
       "    .dataframe tbody tr th {\n",
       "        vertical-align: top;\n",
       "    }\n",
       "\n",
       "    .dataframe thead th {\n",
       "        text-align: right;\n",
       "    }\n",
       "</style>\n",
       "<table border=\"1\" class=\"dataframe\">\n",
       "  <thead>\n",
       "    <tr style=\"text-align: right;\">\n",
       "      <th></th>\n",
       "      <th>aupr</th>\n",
       "      <th>auroc</th>\n",
       "      <th>model</th>\n",
       "      <th>relation</th>\n",
       "    </tr>\n",
       "  </thead>\n",
       "  <tbody>\n",
       "    <tr>\n",
       "      <th>0</th>\n",
       "      <td>0.227284</td>\n",
       "      <td>0.756030</td>\n",
       "      <td>our_model</td>\n",
       "      <td>DaG</td>\n",
       "    </tr>\n",
       "    <tr>\n",
       "      <th>1</th>\n",
       "      <td>0.434265</td>\n",
       "      <td>0.814286</td>\n",
       "      <td>coco_score</td>\n",
       "      <td>DaG</td>\n",
       "    </tr>\n",
       "    <tr>\n",
       "      <th>2</th>\n",
       "      <td>0.317191</td>\n",
       "      <td>0.946176</td>\n",
       "      <td>our_model</td>\n",
       "      <td>CtD</td>\n",
       "    </tr>\n",
       "    <tr>\n",
       "      <th>3</th>\n",
       "      <td>0.493224</td>\n",
       "      <td>0.957707</td>\n",
       "      <td>coco_score</td>\n",
       "      <td>CtD</td>\n",
       "    </tr>\n",
       "    <tr>\n",
       "      <th>4</th>\n",
       "      <td>0.083694</td>\n",
       "      <td>0.749442</td>\n",
       "      <td>our_model</td>\n",
       "      <td>CbG</td>\n",
       "    </tr>\n",
       "    <tr>\n",
       "      <th>5</th>\n",
       "      <td>0.196543</td>\n",
       "      <td>0.818928</td>\n",
       "      <td>coco_score</td>\n",
       "      <td>CbG</td>\n",
       "    </tr>\n",
       "    <tr>\n",
       "      <th>6</th>\n",
       "      <td>0.069524</td>\n",
       "      <td>0.697439</td>\n",
       "      <td>our_model</td>\n",
       "      <td>GiG</td>\n",
       "    </tr>\n",
       "    <tr>\n",
       "      <th>7</th>\n",
       "      <td>0.116987</td>\n",
       "      <td>0.771484</td>\n",
       "      <td>coco_score</td>\n",
       "      <td>GiG</td>\n",
       "    </tr>\n",
       "  </tbody>\n",
       "</table>\n",
       "</div>"
      ],
      "text/plain": [
       "       aupr     auroc       model relation\n",
       "0  0.227284  0.756030   our_model      DaG\n",
       "1  0.434265  0.814286  coco_score      DaG\n",
       "2  0.317191  0.946176   our_model      CtD\n",
       "3  0.493224  0.957707  coco_score      CtD\n",
       "4  0.083694  0.749442   our_model      CbG\n",
       "5  0.196543  0.818928  coco_score      CbG\n",
       "6  0.069524  0.697439   our_model      GiG\n",
       "7  0.116987  0.771484  coco_score      GiG"
      ]
     },
     "execution_count": 4,
     "metadata": {},
     "output_type": "execute_result"
    }
   ],
   "source": [
    "data = []\n",
    "for rel in performance_map:\n",
    "    precision, recall, _ = precision_recall_curve(performance_map[rel]['hetionet'], performance_map[rel]['pred'])\n",
    "    fpr, tpr, threshold = roc_curve(performance_map[rel]['hetionet'], performance_map[rel]['pred'])\n",
    "    data.append({'aupr': auc(recall, precision), 'auroc': auc(fpr, tpr), 'relation': rel, 'model':'our_model'})\n",
    "\n",
    "    precision, recall, _ = precision_recall_curve(performance_map[rel]['hetionet'], performance_map[rel]['coco_score'])\n",
    "    fpr, tpr, threshold = roc_curve(performance_map[rel]['hetionet'], performance_map[rel]['coco_score'])\n",
    "    data.append({'aupr': auc(recall, precision), 'auroc': auc(fpr, tpr), 'relation': rel, 'model':'coco_score'})\n",
    "    \n",
    "results_df = pd.DataFrame.from_records(data)\n",
    "results_df"
   ]
  },
  {
   "cell_type": "code",
   "execution_count": 5,
   "metadata": {
    "ExecuteTime": {
     "end_time": "2020-01-26T18:13:55.231905Z",
     "start_time": "2020-01-26T18:13:55.228891Z"
    }
   },
   "outputs": [],
   "source": [
    "color_map = {\n",
    "    \"our_model\": mcolors.to_hex(pd.np.array([31,120,180, 255])/255),\n",
    "    \"coco_score\": mcolors.to_hex(pd.np.array([178,223,138, 255])/255)\n",
    "}"
   ]
  },
  {
   "cell_type": "code",
   "execution_count": 6,
   "metadata": {
    "ExecuteTime": {
     "end_time": "2020-01-26T18:13:55.983347Z",
     "start_time": "2020-01-26T18:13:55.233274Z"
    }
   },
   "outputs": [
    {
     "name": "stderr",
     "output_type": "stream",
     "text": [
      "/home/danich1/anaconda3/envs/snorkeling/lib/python3.6/site-packages/plotnine/scales/scale.py:93: MatplotlibDeprecationWarning: \n",
      "The iterable function was deprecated in Matplotlib 3.1 and will be removed in 3.3. Use np.iterable instead.\n",
      "  if cbook.iterable(self.breaks) and cbook.iterable(self.labels):\n",
      "/home/danich1/anaconda3/envs/snorkeling/lib/python3.6/site-packages/plotnine/utils.py:553: MatplotlibDeprecationWarning: \n",
      "The iterable function was deprecated in Matplotlib 3.1 and will be removed in 3.3. Use np.iterable instead.\n",
      "  return cbook.iterable(var) and not is_string(var)\n"
     ]
    },
    {
     "data": {
      "image/png": "[encoded data removed]",
      "text/plain": [
       "<Figure size 640x480 with 1 Axes>"
      ]
     },
     "metadata": {},
     "output_type": "display_data"
    },
    {
     "name": "stdout",
     "output_type": "stream",
     "text": [
      "<ggplot: (8768750804193)>\n"
     ]
    },
    {
     "name": "stderr",
     "output_type": "stream",
     "text": [
      "/home/danich1/anaconda3/envs/snorkeling/lib/python3.6/site-packages/plotnine/ggplot.py:706: UserWarning: Saving 6.4 x 4.8 in image.\n",
      "  from_inches(height, units), units))\n",
      "/home/danich1/anaconda3/envs/snorkeling/lib/python3.6/site-packages/plotnine/ggplot.py:707: UserWarning: Filename: ../coco_score_auroc.png\n",
      "  warn('Filename: {}'.format(filename))\n",
      "/home/danich1/anaconda3/envs/snorkeling/lib/python3.6/site-packages/plotnine/scales/scale.py:93: MatplotlibDeprecationWarning: \n",
      "The iterable function was deprecated in Matplotlib 3.1 and will be removed in 3.3. Use np.iterable instead.\n",
      "  if cbook.iterable(self.breaks) and cbook.iterable(self.labels):\n",
      "/home/danich1/anaconda3/envs/snorkeling/lib/python3.6/site-packages/plotnine/utils.py:553: MatplotlibDeprecationWarning: \n",
      "The iterable function was deprecated in Matplotlib 3.1 and will be removed in 3.3. Use np.iterable instead.\n",
      "  return cbook.iterable(var) and not is_string(var)\n",
      "/home/danich1/anaconda3/envs/snorkeling/lib/python3.6/site-packages/plotnine/ggplot.py:722: MatplotlibDeprecationWarning: \n",
      "The frameon kwarg was deprecated in Matplotlib 3.1 and will be removed in 3.3. Use facecolor instead.\n",
      "  fig.savefig(filename, **fig_kwargs)\n"
     ]
    }
   ],
   "source": [
    "g = (\n",
    "    p9.ggplot(results_df, p9.aes(x=\"relation\", y=\"auroc\", fill=\"model\")) +\n",
    "    p9.geom_col(position=\"dodge\")  + \n",
    "    p9.scale_fill_manual(values={\n",
    "        \"our_model\":color_map[\"our_model\"],\n",
    "        \"coco_score\":color_map[\"coco_score\"]\n",
    "    }) +\n",
    "    p9.guides(fill=p9.guide_legend(title=\"Models\")) + \n",
    "    p9.labs(\n",
    "        y = \"AUROC\",\n",
    "        x = \"Edge Type\",\n",
    "        title=\"Baseline Comparison of Hetionet Edge Prediction (AUROC)\"\n",
    "    ) +\n",
    "    p9.theme_bw()\n",
    ")\n",
    "print(g)\n",
    "g.save(filename=\"../coco_score_auroc.png\", dpi=300)"
   ]
  },
  {
   "cell_type": "code",
   "execution_count": 8,
   "metadata": {
    "ExecuteTime": {
     "end_time": "2020-01-26T18:37:52.133220Z",
     "start_time": "2020-01-26T18:37:51.367451Z"
    }
   },
   "outputs": [
    {
     "name": "stderr",
     "output_type": "stream",
     "text": [
      "/home/danich1/anaconda3/envs/snorkeling/lib/python3.6/site-packages/plotnine/scales/scale.py:93: MatplotlibDeprecationWarning: \n",
      "The iterable function was deprecated in Matplotlib 3.1 and will be removed in 3.3. Use np.iterable instead.\n",
      "  if cbook.iterable(self.breaks) and cbook.iterable(self.labels):\n",
      "/home/danich1/anaconda3/envs/snorkeling/lib/python3.6/site-packages/plotnine/utils.py:553: MatplotlibDeprecationWarning: \n",
      "The iterable function was deprecated in Matplotlib 3.1 and will be removed in 3.3. Use np.iterable instead.\n",
      "  return cbook.iterable(var) and not is_string(var)\n"
     ]
    },
    {
     "data": {
      "image/png": "[encoded data removed]",
      "text/plain": [
       "<Figure size 640x480 with 1 Axes>"
      ]
     },
     "metadata": {},
     "output_type": "display_data"
    },
    {
     "name": "stdout",
     "output_type": "stream",
     "text": [
      "<ggplot: (-9223363268161106965)>\n"
     ]
    },
    {
     "name": "stderr",
     "output_type": "stream",
     "text": [
      "/home/danich1/anaconda3/envs/snorkeling/lib/python3.6/site-packages/plotnine/ggplot.py:706: UserWarning: Saving 6.4 x 4.8 in image.\n",
      "  from_inches(height, units), units))\n",
      "/home/danich1/anaconda3/envs/snorkeling/lib/python3.6/site-packages/plotnine/ggplot.py:707: UserWarning: Filename: ../coco_score_aupr.png\n",
      "  warn('Filename: {}'.format(filename))\n",
      "/home/danich1/anaconda3/envs/snorkeling/lib/python3.6/site-packages/plotnine/scales/scale.py:93: MatplotlibDeprecationWarning: \n",
      "The iterable function was deprecated in Matplotlib 3.1 and will be removed in 3.3. Use np.iterable instead.\n",
      "  if cbook.iterable(self.breaks) and cbook.iterable(self.labels):\n",
      "/home/danich1/anaconda3/envs/snorkeling/lib/python3.6/site-packages/plotnine/utils.py:553: MatplotlibDeprecationWarning: \n",
      "The iterable function was deprecated in Matplotlib 3.1 and will be removed in 3.3. Use np.iterable instead.\n",
      "  return cbook.iterable(var) and not is_string(var)\n",
      "/home/danich1/anaconda3/envs/snorkeling/lib/python3.6/site-packages/plotnine/ggplot.py:722: MatplotlibDeprecationWarning: \n",
      "The frameon kwarg was deprecated in Matplotlib 3.1 and will be removed in 3.3. Use facecolor instead.\n",
      "  fig.savefig(filename, **fig_kwargs)\n"
     ]
    }
   ],
   "source": [
    "g = (\n",
    "    p9.ggplot(results_df, p9.aes(x=\"relation\", y=\"aupr\", fill=\"model\")) +\n",
    "    p9.geom_col(position=\"dodge\")  + \n",
    "    p9.scale_fill_manual(values={\n",
    "        \"our_model\":color_map[\"our_model\"],\n",
    "        \"coco_score\":color_map[\"coco_score\"]\n",
    "    }) +\n",
    "    p9.guides(fill=p9.guide_legend(title=\"Models\")) + \n",
    "    p9.labs(\n",
    "        y = \"AUPR\",\n",
    "        x = \"Edge Type\",\n",
    "        title=\"Baseline Comparison of Hetionet Edge Prediction (AUPR)\"\n",
    "    ) +\n",
    "    p9.theme_bw()\n",
    ")\n",
    "print(g)\n",
    "g.save(filename=\"../coco_score_aupr.png\", dpi=300)"
   ]
  }
 ],
 "metadata": {
  "kernelspec": {
   "display_name": "Python [conda env:snorkeling]",
   "language": "python",
   "name": "conda-env-snorkeling-py"
  },
  "language_info": {
   "codemirror_mode": {
    "name": "ipython",
    "version": 3
   },
   "file_extension": ".py",
   "mimetype": "text/x-python",
   "name": "python",
   "nbconvert_exporter": "python",
   "pygments_lexer": "ipython3",
   "version": "3.6.7"
  },
  "toc": {
   "base_numbering": 1,
   "nav_menu": {},
   "number_sections": true,
   "sideBar": true,
   "skip_h1_title": false,
   "title_cell": "Table of Contents",
   "title_sidebar": "Contents",
   "toc_cell": false,
   "toc_position": {},
   "toc_section_display": true,
   "toc_window_display": false
  },
  "varInspector": {
   "cols": {
    "lenName": 16,
    "lenType": 16,
    "lenVar": 40
   },
   "kernels_config": {
    "python": {
     "delete_cmd_postfix": "",
     "delete_cmd_prefix": "del ",
     "library": "var_list.py",
     "varRefreshCmd": "print(var_dic_list())"
    },
    "r": {
     "delete_cmd_postfix": ") ",
     "delete_cmd_prefix": "rm(",
     "library": "var_list.r",
     "varRefreshCmd": "cat(var_dic_list()) "
    }
   },
   "types_to_exclude": [
    "module",
    "function",
    "builtin_function_or_method",
    "instance",
    "_Feature"
   ],
   "window_display": false
  }
 },
 "nbformat": 4,
 "nbformat_minor": 2
}
